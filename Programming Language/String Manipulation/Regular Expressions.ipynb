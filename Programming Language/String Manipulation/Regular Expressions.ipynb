{
 "cells": [
  {
   "cell_type": "code",
   "execution_count": null,
   "source": [
    "# TODO Read through this guide: https://realpython.com/regex-python/\r\n",
    "# TODO Read through this guide: https://realpython.com/regex-python-part-2/"
   ],
   "outputs": [],
   "metadata": {}
  }
 ],
 "metadata": {
  "orig_nbformat": 4,
  "language_info": {
   "name": "python"
  }
 },
 "nbformat": 4,
 "nbformat_minor": 2
}