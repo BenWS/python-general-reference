{
 "cells": [
  {
   "cell_type": "code",
   "execution_count": null,
   "source": [
    "# TODO read through this guide: https://www.geeksforgeeks.org/python-datetime-module/"
   ],
   "outputs": [],
   "metadata": {}
  }
 ],
 "metadata": {
  "orig_nbformat": 4,
  "language_info": {
   "name": "python"
  }
 },
 "nbformat": 4,
 "nbformat_minor": 2
}