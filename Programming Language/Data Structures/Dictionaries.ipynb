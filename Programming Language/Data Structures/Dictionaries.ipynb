{
 "cells": [
  {
   "cell_type": "code",
   "execution_count": null,
   "source": [
    "# TODO read through this guide: https://realpython.com/python-dicts/\r\n",
    "# TODO read through this guide: https://realpython.com/iterate-through-dictionary-python/"
   ],
   "outputs": [],
   "metadata": {}
  }
 ],
 "metadata": {
  "orig_nbformat": 4,
  "language_info": {
   "name": "python"
  }
 },
 "nbformat": 4,
 "nbformat_minor": 2
}