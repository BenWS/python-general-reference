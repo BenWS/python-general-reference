{
 "cells": [
  {
   "cell_type": "code",
   "execution_count": 16,
   "source": [
    "# read multiple lines from file\r\n",
    "with open('..\\File Resources\\File 08-10-2021.txt') as file:\r\n",
    "  counter = 0\r\n",
    "  file_sample = ''\r\n",
    "  while (counter < 5):\r\n",
    "    counter += 1\r\n",
    "    file_sample = file_sample + file.readline()\r\n",
    "\r\n",
    "print(file_sample)"
   ],
   "outputs": [
    {
     "output_type": "stream",
     "name": "stdout",
     "text": [
      "first row, second row\n",
      "1,2\n",
      "3,4\n",
      "5,6\n"
     ]
    }
   ],
   "metadata": {}
  }
 ],
 "metadata": {
  "orig_nbformat": 4,
  "language_info": {
   "name": "python",
   "version": "3.6.2"
  },
  "kernelspec": {
   "name": "python3",
   "display_name": "Python 3.6.2 64-bit"
  },
  "interpreter": {
   "hash": "c05ed9b373c5ddc4974183cb24aaf9036719dd5e4d1ede280622e20d42f40472"
  }
 },
 "nbformat": 4,
 "nbformat_minor": 2
}