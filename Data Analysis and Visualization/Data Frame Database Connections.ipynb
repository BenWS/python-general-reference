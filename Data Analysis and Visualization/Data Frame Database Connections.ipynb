{
 "cells": [
  {
   "cell_type": "code",
   "execution_count": null,
   "source": [
    "# Create Database Connection via PYODBC"
   ],
   "outputs": [],
   "metadata": {}
  },
  {
   "cell_type": "code",
   "execution_count": 2,
   "source": [
    "import pyodbc\r\n",
    "import sqlalchemy\r\n",
    "import pandas as pd\r\n",
    "\r\n",
    "engine = sqlalchemy.create_engine('mssql+pyodbc://IdmReporting4b/ZzTempPlayground?trusted_connection=yes&driver=ODBC+Driver+13+for+SQL+Server',)\r\n",
    "\r\n",
    "# reading data\r\n",
    "pd.read_sql('select * from ItemMoveTool_UploadItems',engine)\r\n",
    "\r\n",
    "# writing data\r\n",
    "# note use of 'executemany' parameter\r\n",
    "engine = sqlalchemy.create_engine('mssql+pyodbc://IdmReporting4b/ZzTempPlayground?trusted_connection=yes&driver=ODBC+Driver+13+for+SQL+Server', fast_executemany=True)"
   ],
   "outputs": [],
   "metadata": {}
  },
  {
   "cell_type": "code",
   "execution_count": null,
   "source": [],
   "outputs": [],
   "metadata": {}
  }
 ],
 "metadata": {
  "orig_nbformat": 4,
  "language_info": {
   "name": "python",
   "version": "3.6.2",
   "mimetype": "text/x-python",
   "codemirror_mode": {
    "name": "ipython",
    "version": 3
   },
   "pygments_lexer": "ipython3",
   "nbconvert_exporter": "python",
   "file_extension": ".py"
  },
  "kernelspec": {
   "name": "python3",
   "display_name": "Python 3.6.2 64-bit"
  },
  "interpreter": {
   "hash": "c05ed9b373c5ddc4974183cb24aaf9036719dd5e4d1ede280622e20d42f40472"
  }
 },
 "nbformat": 4,
 "nbformat_minor": 2
}