{
 "cells": [
  {
   "cell_type": "code",
   "execution_count": null,
   "metadata": {},
   "outputs": [],
   "source": [
    "# Create Database Connection via PYODBC"
   ]
  },
  {
   "cell_type": "code",
   "execution_count": 2,
   "metadata": {},
   "outputs": [],
   "source": [
    "import pyodbc\n",
    "import sqlalchemy\n",
    "import pandas as pd\n",
    "\n",
    "engine = sqlalchemy.create_engine('mssql+pyodbc://IdmReporting4b/ZzTempPlayground?trusted_connection=yes&driver=ODBC+Driver+13+for+SQL+Server',)\n",
    "\n",
    "# testing, testing, testing...\n",
    "# reading data\n",
    "pd.read_sql('select * from ItemMoveTool_UploadItems',engine)\n",
    "\n",
    "# writing data\n",
    "# note use of 'executemany' parameter\n",
    "engine = sqlalchemy.create_engine('mssql+pyodbc://IdmReporting4b/ZzTempPlayground?trusted_connection=yes&driver=ODBC+Driver+13+for+SQL+Server', fast_executemany=True)"
   ]
  },
  {
   "cell_type": "code",
   "execution_count": null,
   "metadata": {},
   "outputs": [],
   "source": []
  }
 ],
 "metadata": {
  "interpreter": {
   "hash": "c05ed9b373c5ddc4974183cb24aaf9036719dd5e4d1ede280622e20d42f40472"
  },
  "kernelspec": {
   "display_name": "Python 3.6.2 64-bit",
   "name": "python3"
  },
  "language_info": {
   "codemirror_mode": {
    "name": "ipython",
    "version": 3
   },
   "file_extension": ".py",
   "mimetype": "text/x-python",
   "name": "python",
   "nbconvert_exporter": "python",
   "pygments_lexer": "ipython3",
   "version": "3.6.2"
  },
  "orig_nbformat": 4
 },
 "nbformat": 4,
 "nbformat_minor": 2
}
